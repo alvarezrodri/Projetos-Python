{
 "cells": [
  {
   "cell_type": "markdown",
   "id": "b939667e-59f9-4194-b3f5-392a61d3622f",
   "metadata": {},
   "source": [
    "# Consolidando os arquivos "
   ]
  },
  {
   "cell_type": "code",
   "execution_count": 5,
   "id": "11169fae-08ce-4b37-953e-7c5e4fbbf086",
   "metadata": {},
   "outputs": [],
   "source": [
    "import pandas as pd\n",
    "import os\n",
    "import datetime as dt"
   ]
  },
  {
   "cell_type": "code",
   "execution_count": 6,
   "id": "c1a4f9d5-e571-4778-b324-5174625e1f5b",
   "metadata": {},
   "outputs": [],
   "source": [
    "data = dt.datetime.now() #Para retornar a data e a hora no meomento da execução"
   ]
  },
  {
   "cell_type": "markdown",
   "id": "4a16cbfa-0627-402e-abd0-a957e271cbf6",
   "metadata": {},
   "source": [
    "## Alterarando colunas"
   ]
  },
  {
   "cell_type": "code",
   "execution_count": 8,
   "id": "6e8e15e7-8a39-4678-83f7-55e74a123e1d",
   "metadata": {},
   "outputs": [],
   "source": [
    "colunas = [\n",
    "    'Segmento',\n",
    "    'País',\n",
    "    'Produto',\t\n",
    "    'Qtde de Unidades Vendidas',\t\n",
    "    'Preço Unitário',\t\n",
    "    'Valor Total',\t\n",
    "    'Desconto',\t\n",
    "    'Valor Total c/ Desconto',\t\n",
    "    'Custo Total',\t\n",
    "    'Lucro',\n",
    "    'Data',\n",
    "    'Mês',\t\n",
    "    'Ano'\n",
    "]\n",
    "consolidado = pd.DataFrame(columns=colunas) #colunas de lista virou um dataframe"
   ]
  },
  {
   "cell_type": "code",
   "execution_count": 9,
   "id": "62b92f5c-96fc-4f46-afbb-72a65f4623c0",
   "metadata": {},
   "outputs": [
    {
     "data": {
      "text/plain": [
       "pandas.core.frame.DataFrame"
      ]
     },
     "execution_count": 9,
     "metadata": {},
     "output_type": "execute_result"
    }
   ],
   "source": [
    "type(consolidado)"
   ]
  },
  {
   "cell_type": "markdown",
   "id": "db12e0b5-1a68-40a5-8221-7655447b7ecc",
   "metadata": {},
   "source": [
    "## Ler todos os arquivos da minha pasta"
   ]
  },
  {
   "cell_type": "code",
   "execution_count": 11,
   "id": "6d5865aa-80f7-4d12-af6f-c18136a7ae09",
   "metadata": {
    "scrolled": true
   },
   "outputs": [
    {
     "name": "stderr",
     "output_type": "stream",
     "text": [
      "C:\\Users\\ro77d\\AppData\\Local\\Temp\\ipykernel_6784\\3581039605.py:14: FutureWarning: The behavior of DataFrame concatenation with empty or all-NA entries is deprecated. In a future version, this will no longer exclude empty or all-NA columns when determining the result dtypes. To retain the old behavior, exclude the relevant entries before the concat operation.\n",
      "  consolidado = pd.concat([consolidado, df])\n"
     ]
    }
   ],
   "source": [
    "arquivos = os.listdir('planilhas')\n",
    "\n",
    "for excel in arquivos:\n",
    "    if excel.endswith('.xlsx'):\n",
    "        dados_arquivos = excel.split('-')\n",
    "        segmento = dados_arquivos[0]\n",
    "        pais = dados_arquivos[1].replace('.xlsx','')\n",
    "\n",
    "        df = pd.read_excel(f'planilhas/{excel}')\n",
    "\n",
    "        df.insert(0, 'Segmento', segmento)\n",
    "        df.insert(1, 'País', pais)\n",
    "\n",
    "        consolidado = pd.concat([consolidado, df])\n",
    "\n",
    "    else:\n",
    "        print(f'O arquivo do {Excel} não é um arquivo Excel válido')"
   ]
  },
  {
   "cell_type": "code",
   "execution_count": 12,
   "id": "4fe1d920-ef53-4139-8342-e254148c51c7",
   "metadata": {},
   "outputs": [
    {
     "data": {
      "text/plain": [
       "(700, 13)"
      ]
     },
     "execution_count": 12,
     "metadata": {},
     "output_type": "execute_result"
    }
   ],
   "source": [
    "consolidado.shape"
   ]
  },
  {
   "cell_type": "code",
   "execution_count": 13,
   "id": "9c7b9d2f-b4af-43f7-9c0d-634fbb23a6bf",
   "metadata": {},
   "outputs": [
    {
     "data": {
      "text/plain": [
       "0    2019-09-01\n",
       "1    2018-11-01\n",
       "2    2019-12-01\n",
       "3    2019-12-01\n",
       "4    2019-06-01\n",
       "5    2019-06-01\n",
       "6    2019-05-01\n",
       "7    2019-02-01\n",
       "8    2019-11-01\n",
       "9    2019-04-01\n",
       "10   2018-09-01\n",
       "11   2019-03-01\n",
       "12   2018-12-01\n",
       "13   2018-10-01\n",
       "14   2018-10-01\n",
       "15   2019-07-01\n",
       "16   2019-01-01\n",
       "17   2019-10-01\n",
       "18   2019-10-01\n",
       "19   2019-08-01\n",
       "Name: Data, dtype: datetime64[ns]"
      ]
     },
     "execution_count": 13,
     "metadata": {},
     "output_type": "execute_result"
    }
   ],
   "source": [
    "df.Data"
   ]
  },
  {
   "cell_type": "code",
   "execution_count": 14,
   "id": "f2f86e71-df50-4c50-8735-c5b94a540995",
   "metadata": {},
   "outputs": [
    {
     "data": {
      "text/plain": [
       "datetime.datetime(2024, 8, 21, 19, 40, 42, 997967)"
      ]
     },
     "execution_count": 14,
     "metadata": {},
     "output_type": "execute_result"
    }
   ],
   "source": [
    "data"
   ]
  },
  {
   "cell_type": "markdown",
   "id": "53506f6d-ec4c-4079-b99e-11fefc7c548d",
   "metadata": {},
   "source": [
    "## Consolidando arquivos"
   ]
  },
  {
   "cell_type": "code",
   "execution_count": 21,
   "id": "6c72fb15-905a-404d-8099-fae806a55320",
   "metadata": {},
   "outputs": [],
   "source": [
    "consolidado.to_excel(f\"Report-Consolidado.xlsx\",\n",
    "                    index=False,\n",
    "                    sheet_name= 'Report consolidado'                    \n",
    ")"
   ]
  },
  {
   "cell_type": "code",
   "execution_count": null,
   "id": "7872aa02-58f9-471f-9805-3d1747921304",
   "metadata": {},
   "outputs": [],
   "source": []
  }
 ],
 "metadata": {
  "kernelspec": {
   "display_name": "Python 3 (ipykernel)",
   "language": "python",
   "name": "python3"
  },
  "language_info": {
   "codemirror_mode": {
    "name": "ipython",
    "version": 3
   },
   "file_extension": ".py",
   "mimetype": "text/x-python",
   "name": "python",
   "nbconvert_exporter": "python",
   "pygments_lexer": "ipython3",
   "version": "3.12.4"
  }
 },
 "nbformat": 4,
 "nbformat_minor": 5
}
