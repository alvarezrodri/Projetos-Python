{
 "cells": [
  {
   "cell_type": "markdown",
   "id": "f4649d69-747d-4688-b71a-cc967e47ad92",
   "metadata": {},
   "source": [
    "# Análise de Dados"
   ]
  },
  {
   "cell_type": "code",
   "execution_count": 3,
   "id": "7e4efb0b-a7f0-4e67-a252-894c656aa7aa",
   "metadata": {},
   "outputs": [],
   "source": [
    "import pandas as pd"
   ]
  },
  {
   "cell_type": "code",
   "execution_count": 4,
   "id": "4a24c3d4-1793-4edb-8b31-d214fad7e31e",
   "metadata": {},
   "outputs": [],
   "source": [
    "df = pd.read_excel('Report-Consolidado-13-08-2024 19H-11M.xlsx')"
   ]
  },
  {
   "cell_type": "code",
   "execution_count": 5,
   "id": "175db931-4c37-4e9e-9f94-68bc1d8411c3",
   "metadata": {},
   "outputs": [
    {
     "data": {
      "text/html": [
       "<div>\n",
       "<style scoped>\n",
       "    .dataframe tbody tr th:only-of-type {\n",
       "        vertical-align: middle;\n",
       "    }\n",
       "\n",
       "    .dataframe tbody tr th {\n",
       "        vertical-align: top;\n",
       "    }\n",
       "\n",
       "    .dataframe thead th {\n",
       "        text-align: right;\n",
       "    }\n",
       "</style>\n",
       "<table border=\"1\" class=\"dataframe\">\n",
       "  <thead>\n",
       "    <tr style=\"text-align: right;\">\n",
       "      <th></th>\n",
       "      <th>Segmento</th>\n",
       "      <th>País</th>\n",
       "      <th>Produto</th>\n",
       "      <th>Qtde de Unidades Vendidas</th>\n",
       "      <th>Preço Unitário</th>\n",
       "      <th>Valor Total</th>\n",
       "      <th>Desconto</th>\n",
       "      <th>Valor Total c/ Desconto</th>\n",
       "      <th>Custo Total</th>\n",
       "      <th>Lucro</th>\n",
       "      <th>Data</th>\n",
       "      <th>Mês</th>\n",
       "      <th>Ano</th>\n",
       "    </tr>\n",
       "  </thead>\n",
       "  <tbody>\n",
       "    <tr>\n",
       "      <th>0</th>\n",
       "      <td>Governo</td>\n",
       "      <td>Alemanha</td>\n",
       "      <td>Produto 1</td>\n",
       "      <td>1321.0</td>\n",
       "      <td>20</td>\n",
       "      <td>26420.0</td>\n",
       "      <td>0.0</td>\n",
       "      <td>26420.0</td>\n",
       "      <td>14531.0</td>\n",
       "      <td>11889.0</td>\n",
       "      <td>2019-01-01</td>\n",
       "      <td>Janeiro</td>\n",
       "      <td>2019</td>\n",
       "    </tr>\n",
       "    <tr>\n",
       "      <th>1</th>\n",
       "      <td>Governo</td>\n",
       "      <td>Alemanha</td>\n",
       "      <td>Produto 1</td>\n",
       "      <td>1513.0</td>\n",
       "      <td>350</td>\n",
       "      <td>529550.0</td>\n",
       "      <td>0.0</td>\n",
       "      <td>529550.0</td>\n",
       "      <td>432718.0</td>\n",
       "      <td>96832.0</td>\n",
       "      <td>2019-12-01</td>\n",
       "      <td>Dezembro</td>\n",
       "      <td>2019</td>\n",
       "    </tr>\n",
       "    <tr>\n",
       "      <th>2</th>\n",
       "      <td>Governo</td>\n",
       "      <td>Alemanha</td>\n",
       "      <td>Produto 2</td>\n",
       "      <td>2146.0</td>\n",
       "      <td>7</td>\n",
       "      <td>15022.0</td>\n",
       "      <td>0.0</td>\n",
       "      <td>15022.0</td>\n",
       "      <td>10730.0</td>\n",
       "      <td>4292.0</td>\n",
       "      <td>2019-09-01</td>\n",
       "      <td>Setembro</td>\n",
       "      <td>2019</td>\n",
       "    </tr>\n",
       "    <tr>\n",
       "      <th>3</th>\n",
       "      <td>Governo</td>\n",
       "      <td>Alemanha</td>\n",
       "      <td>Produto 3</td>\n",
       "      <td>1006.0</td>\n",
       "      <td>350</td>\n",
       "      <td>352100.0</td>\n",
       "      <td>0.0</td>\n",
       "      <td>352100.0</td>\n",
       "      <td>261560.0</td>\n",
       "      <td>90540.0</td>\n",
       "      <td>2019-06-01</td>\n",
       "      <td>Junho</td>\n",
       "      <td>2019</td>\n",
       "    </tr>\n",
       "    <tr>\n",
       "      <th>4</th>\n",
       "      <td>Governo</td>\n",
       "      <td>Alemanha</td>\n",
       "      <td>Produto 3</td>\n",
       "      <td>1513.0</td>\n",
       "      <td>350</td>\n",
       "      <td>529550.0</td>\n",
       "      <td>0.0</td>\n",
       "      <td>529550.0</td>\n",
       "      <td>393380.0</td>\n",
       "      <td>136170.0</td>\n",
       "      <td>2019-12-01</td>\n",
       "      <td>Dezembro</td>\n",
       "      <td>2019</td>\n",
       "    </tr>\n",
       "  </tbody>\n",
       "</table>\n",
       "</div>"
      ],
      "text/plain": [
       "  Segmento      País    Produto  Qtde de Unidades Vendidas  Preço Unitário  \\\n",
       "0  Governo  Alemanha  Produto 1                     1321.0              20   \n",
       "1  Governo  Alemanha  Produto 1                     1513.0             350   \n",
       "2  Governo  Alemanha  Produto 2                     2146.0               7   \n",
       "3  Governo  Alemanha  Produto 3                     1006.0             350   \n",
       "4  Governo  Alemanha  Produto 3                     1513.0             350   \n",
       "\n",
       "   Valor Total  Desconto  Valor Total c/ Desconto  Custo Total     Lucro  \\\n",
       "0      26420.0       0.0                  26420.0      14531.0   11889.0   \n",
       "1     529550.0       0.0                 529550.0     432718.0   96832.0   \n",
       "2      15022.0       0.0                  15022.0      10730.0    4292.0   \n",
       "3     352100.0       0.0                 352100.0     261560.0   90540.0   \n",
       "4     529550.0       0.0                 529550.0     393380.0  136170.0   \n",
       "\n",
       "        Data       Mês   Ano  \n",
       "0 2019-01-01   Janeiro  2019  \n",
       "1 2019-12-01  Dezembro  2019  \n",
       "2 2019-09-01  Setembro  2019  \n",
       "3 2019-06-01     Junho  2019  \n",
       "4 2019-12-01  Dezembro  2019  "
      ]
     },
     "execution_count": 5,
     "metadata": {},
     "output_type": "execute_result"
    }
   ],
   "source": [
    "df.head()"
   ]
  },
  {
   "cell_type": "code",
   "execution_count": 6,
   "id": "f4f277e1-38fc-499f-a49f-a1fcbf8a801b",
   "metadata": {},
   "outputs": [
    {
     "data": {
      "text/html": [
       "<div>\n",
       "<style scoped>\n",
       "    .dataframe tbody tr th:only-of-type {\n",
       "        vertical-align: middle;\n",
       "    }\n",
       "\n",
       "    .dataframe tbody tr th {\n",
       "        vertical-align: top;\n",
       "    }\n",
       "\n",
       "    .dataframe thead th {\n",
       "        text-align: right;\n",
       "    }\n",
       "</style>\n",
       "<table border=\"1\" class=\"dataframe\">\n",
       "  <thead>\n",
       "    <tr style=\"text-align: right;\">\n",
       "      <th></th>\n",
       "      <th>Segmento</th>\n",
       "      <th>País</th>\n",
       "      <th>Produto</th>\n",
       "      <th>Qtde de Unidades Vendidas</th>\n",
       "      <th>Preço Unitário</th>\n",
       "      <th>Valor Total</th>\n",
       "      <th>Desconto</th>\n",
       "      <th>Valor Total c/ Desconto</th>\n",
       "      <th>Custo Total</th>\n",
       "      <th>Lucro</th>\n",
       "      <th>Data</th>\n",
       "      <th>Mês</th>\n",
       "      <th>Ano</th>\n",
       "    </tr>\n",
       "  </thead>\n",
       "  <tbody>\n",
       "    <tr>\n",
       "      <th>695</th>\n",
       "      <td>Vendas online</td>\n",
       "      <td>França</td>\n",
       "      <td>Produto 3</td>\n",
       "      <td>2425.5</td>\n",
       "      <td>12</td>\n",
       "      <td>29106.0</td>\n",
       "      <td>3201.66</td>\n",
       "      <td>25904.34</td>\n",
       "      <td>7276.5</td>\n",
       "      <td>18627.84</td>\n",
       "      <td>2019-07-01</td>\n",
       "      <td>Julho</td>\n",
       "      <td>2019</td>\n",
       "    </tr>\n",
       "    <tr>\n",
       "      <th>696</th>\n",
       "      <td>Vendas online</td>\n",
       "      <td>França</td>\n",
       "      <td>Produto 5</td>\n",
       "      <td>1734.0</td>\n",
       "      <td>12</td>\n",
       "      <td>20808.0</td>\n",
       "      <td>2288.88</td>\n",
       "      <td>18519.12</td>\n",
       "      <td>5202.0</td>\n",
       "      <td>13317.12</td>\n",
       "      <td>2019-01-01</td>\n",
       "      <td>Janeiro</td>\n",
       "      <td>2019</td>\n",
       "    </tr>\n",
       "    <tr>\n",
       "      <th>697</th>\n",
       "      <td>Vendas online</td>\n",
       "      <td>França</td>\n",
       "      <td>Produto 3</td>\n",
       "      <td>1393.0</td>\n",
       "      <td>12</td>\n",
       "      <td>16716.0</td>\n",
       "      <td>2340.24</td>\n",
       "      <td>14375.76</td>\n",
       "      <td>4179.0</td>\n",
       "      <td>10196.76</td>\n",
       "      <td>2019-10-01</td>\n",
       "      <td>Outubro</td>\n",
       "      <td>2019</td>\n",
       "    </tr>\n",
       "    <tr>\n",
       "      <th>698</th>\n",
       "      <td>Vendas online</td>\n",
       "      <td>França</td>\n",
       "      <td>Produto 6</td>\n",
       "      <td>1393.0</td>\n",
       "      <td>12</td>\n",
       "      <td>16716.0</td>\n",
       "      <td>2340.24</td>\n",
       "      <td>14375.76</td>\n",
       "      <td>4179.0</td>\n",
       "      <td>10196.76</td>\n",
       "      <td>2019-10-01</td>\n",
       "      <td>Outubro</td>\n",
       "      <td>2019</td>\n",
       "    </tr>\n",
       "    <tr>\n",
       "      <th>699</th>\n",
       "      <td>Vendas online</td>\n",
       "      <td>França</td>\n",
       "      <td>Produto 6</td>\n",
       "      <td>2475.0</td>\n",
       "      <td>12</td>\n",
       "      <td>29700.0</td>\n",
       "      <td>4158.00</td>\n",
       "      <td>25542.00</td>\n",
       "      <td>7425.0</td>\n",
       "      <td>18117.00</td>\n",
       "      <td>2019-08-01</td>\n",
       "      <td>Agosto</td>\n",
       "      <td>2019</td>\n",
       "    </tr>\n",
       "  </tbody>\n",
       "</table>\n",
       "</div>"
      ],
      "text/plain": [
       "          Segmento    País    Produto  Qtde de Unidades Vendidas  \\\n",
       "695  Vendas online  França  Produto 3                     2425.5   \n",
       "696  Vendas online  França  Produto 5                     1734.0   \n",
       "697  Vendas online  França  Produto 3                     1393.0   \n",
       "698  Vendas online  França  Produto 6                     1393.0   \n",
       "699  Vendas online  França  Produto 6                     2475.0   \n",
       "\n",
       "     Preço Unitário  Valor Total  Desconto  Valor Total c/ Desconto  \\\n",
       "695              12      29106.0   3201.66                 25904.34   \n",
       "696              12      20808.0   2288.88                 18519.12   \n",
       "697              12      16716.0   2340.24                 14375.76   \n",
       "698              12      16716.0   2340.24                 14375.76   \n",
       "699              12      29700.0   4158.00                 25542.00   \n",
       "\n",
       "     Custo Total     Lucro       Data      Mês   Ano  \n",
       "695       7276.5  18627.84 2019-07-01    Julho  2019  \n",
       "696       5202.0  13317.12 2019-01-01  Janeiro  2019  \n",
       "697       4179.0  10196.76 2019-10-01  Outubro  2019  \n",
       "698       4179.0  10196.76 2019-10-01  Outubro  2019  \n",
       "699       7425.0  18117.00 2019-08-01   Agosto  2019  "
      ]
     },
     "execution_count": 6,
     "metadata": {},
     "output_type": "execute_result"
    }
   ],
   "source": [
    "df.tail()"
   ]
  },
  {
   "cell_type": "code",
   "execution_count": 7,
   "id": "fab64c8d-03dc-4e65-b0bc-8635368ac0e8",
   "metadata": {},
   "outputs": [
    {
     "name": "stdout",
     "output_type": "stream",
     "text": [
      "<class 'pandas.core.frame.DataFrame'>\n",
      "RangeIndex: 700 entries, 0 to 699\n",
      "Data columns (total 13 columns):\n",
      " #   Column                     Non-Null Count  Dtype         \n",
      "---  ------                     --------------  -----         \n",
      " 0   Segmento                   700 non-null    object        \n",
      " 1   País                       700 non-null    object        \n",
      " 2   Produto                    700 non-null    object        \n",
      " 3   Qtde de Unidades Vendidas  700 non-null    float64       \n",
      " 4   Preço Unitário             700 non-null    int64         \n",
      " 5   Valor Total                700 non-null    float64       \n",
      " 6   Desconto                   700 non-null    float64       \n",
      " 7   Valor Total c/ Desconto    700 non-null    float64       \n",
      " 8   Custo Total                700 non-null    float64       \n",
      " 9   Lucro                      700 non-null    float64       \n",
      " 10  Data                       700 non-null    datetime64[ns]\n",
      " 11  Mês                        700 non-null    object        \n",
      " 12  Ano                        700 non-null    int64         \n",
      "dtypes: datetime64[ns](1), float64(6), int64(2), object(4)\n",
      "memory usage: 71.2+ KB\n"
     ]
    }
   ],
   "source": [
    "df.info()"
   ]
  },
  {
   "cell_type": "code",
   "execution_count": 8,
   "id": "a843902b-c1d8-460f-9e41-ddaa9980bc6b",
   "metadata": {},
   "outputs": [
    {
     "data": {
      "text/plain": [
       "Index(['Segmento', 'País', 'Produto', 'Qtde de Unidades Vendidas',\n",
       "       'Preço Unitário', 'Valor Total', 'Desconto', 'Valor Total c/ Desconto',\n",
       "       'Custo Total', 'Lucro', 'Data', 'Mês', 'Ano'],\n",
       "      dtype='object')"
      ]
     },
     "execution_count": 8,
     "metadata": {},
     "output_type": "execute_result"
    }
   ],
   "source": [
    "df.columns"
   ]
  },
  {
   "cell_type": "code",
   "execution_count": 9,
   "id": "3c2f45d7-c3b2-4a15-ba68-f20f45458b25",
   "metadata": {},
   "outputs": [
    {
     "name": "stdout",
     "output_type": "stream",
     "text": [
      "'segmento',\n",
      "'país',\n",
      "'produto',\n",
      "'qtde_de_unidades_vendidas',\n",
      "'preço_unitário',\n",
      "'valor_total',\n",
      "'desconto',\n",
      "'valor_total_c/_desconto',\n",
      "'custo_total',\n",
      "'lucro',\n",
      "'data',\n",
      "'mês',\n",
      "'ano',\n"
     ]
    }
   ],
   "source": [
    "for coluna in df.columns:\n",
    "    print(f\"'{coluna.lower().replace(' ', '_')}',\")"
   ]
  },
  {
   "cell_type": "code",
   "execution_count": 10,
   "id": "73ec68c8-e2ec-4304-a6ac-5134026a7caf",
   "metadata": {},
   "outputs": [],
   "source": [
    "colunas = [\n",
    "        'segmento',\n",
    "        'país',\n",
    "        'produto',\n",
    "        'qtde_de_unidades_vendidas',\n",
    "        'preço_unitário',\n",
    "        'valor_total',\n",
    "        'desconto',\n",
    "        'valor_total_c/_desconto',\n",
    "        'custo_total',\n",
    "        'lucro',\n",
    "        'data',\n",
    "        'mês',\n",
    "        'ano', \n",
    "]\n",
    "\n",
    "df.columns = colunas"
   ]
  },
  {
   "cell_type": "code",
   "execution_count": 11,
   "id": "8d82d3de-24a4-42db-ad44-2558e74fefe7",
   "metadata": {},
   "outputs": [
    {
     "data": {
      "text/plain": [
       "Index(['segmento', 'país', 'produto', 'qtde_de_unidades_vendidas',\n",
       "       'preço_unitário', 'valor_total', 'desconto', 'valor_total_c/_desconto',\n",
       "       'custo_total', 'lucro', 'data', 'mês', 'ano'],\n",
       "      dtype='object')"
      ]
     },
     "execution_count": 11,
     "metadata": {},
     "output_type": "execute_result"
    }
   ],
   "source": [
    "df.columns"
   ]
  },
  {
   "cell_type": "code",
   "execution_count": 12,
   "id": "920b200e-b586-4b70-bc31-ef39875bc5ff",
   "metadata": {},
   "outputs": [],
   "source": [
    "total_linhas = df.shape[0]"
   ]
  },
  {
   "cell_type": "code",
   "execution_count": 13,
   "id": "255f1df6-a9a7-4eb3-a9d1-ccf9198106f6",
   "metadata": {},
   "outputs": [
    {
     "data": {
      "text/plain": [
       "segmento                     0\n",
       "país                         0\n",
       "produto                      0\n",
       "qtde_de_unidades_vendidas    0\n",
       "preço_unitário               0\n",
       "valor_total                  0\n",
       "desconto                     0\n",
       "valor_total_c/_desconto      0\n",
       "custo_total                  0\n",
       "lucro                        0\n",
       "data                         0\n",
       "mês                          0\n",
       "ano                          0\n",
       "dtype: int64"
      ]
     },
     "execution_count": 13,
     "metadata": {},
     "output_type": "execute_result"
    }
   ],
   "source": [
    "df.isnull().sum() # Zero, por que esta preechido tudo"
   ]
  },
  {
   "cell_type": "code",
   "execution_count": 14,
   "id": "a4b9b33c-93b2-47a9-9b2c-dafd38de1401",
   "metadata": {},
   "outputs": [
    {
     "data": {
      "text/plain": [
       "0            Governo\n",
       "1            Governo\n",
       "2            Governo\n",
       "3            Governo\n",
       "4            Governo\n",
       "           ...      \n",
       "695    Vendas online\n",
       "696    Vendas online\n",
       "697    Vendas online\n",
       "698    Vendas online\n",
       "699    Vendas online\n",
       "Name: segmento, Length: 700, dtype: object"
      ]
     },
     "execution_count": 14,
     "metadata": {},
     "output_type": "execute_result"
    }
   ],
   "source": [
    "df.segmento #Pega somente os valores únicos"
   ]
  },
  {
   "cell_type": "code",
   "execution_count": 15,
   "id": "a64c789e-75c3-4abb-bb9f-d7cb8ab2a662",
   "metadata": {},
   "outputs": [
    {
     "data": {
      "text/plain": [
       "5"
      ]
     },
     "execution_count": 15,
     "metadata": {},
     "output_type": "execute_result"
    }
   ],
   "source": [
    "df.segmento.nunique() # nunique é usada para contar o número de valores únicos em uma série do pandas ou em uma coluna de um DataFrame"
   ]
  },
  {
   "cell_type": "markdown",
   "id": "4ab35b67-fb3e-4077-9e72-fe4d300d9f43",
   "metadata": {},
   "source": [
    "# Análise monetárias"
   ]
  },
  {
   "cell_type": "code",
   "execution_count": 17,
   "id": "68b4241a-c498-486b-b34a-60ccfcdb35d8",
   "metadata": {},
   "outputs": [
    {
     "data": {
      "text/html": [
       "<div>\n",
       "<style scoped>\n",
       "    .dataframe tbody tr th:only-of-type {\n",
       "        vertical-align: middle;\n",
       "    }\n",
       "\n",
       "    .dataframe tbody tr th {\n",
       "        vertical-align: top;\n",
       "    }\n",
       "\n",
       "    .dataframe thead th {\n",
       "        text-align: right;\n",
       "    }\n",
       "</style>\n",
       "<table border=\"1\" class=\"dataframe\">\n",
       "  <thead>\n",
       "    <tr style=\"text-align: right;\">\n",
       "      <th></th>\n",
       "      <th>qtde_de_unidades_vendidas</th>\n",
       "      <th>preço_unitário</th>\n",
       "      <th>valor_total</th>\n",
       "      <th>desconto</th>\n",
       "      <th>valor_total_c/_desconto</th>\n",
       "      <th>custo_total</th>\n",
       "      <th>lucro</th>\n",
       "      <th>data</th>\n",
       "      <th>ano</th>\n",
       "    </tr>\n",
       "  </thead>\n",
       "  <tbody>\n",
       "    <tr>\n",
       "      <th>count</th>\n",
       "      <td>700.00</td>\n",
       "      <td>700.00</td>\n",
       "      <td>700.00</td>\n",
       "      <td>700.00</td>\n",
       "      <td>700.00</td>\n",
       "      <td>700.00</td>\n",
       "      <td>700.00</td>\n",
       "      <td>700</td>\n",
       "      <td>700.00</td>\n",
       "    </tr>\n",
       "    <tr>\n",
       "      <th>mean</th>\n",
       "      <td>1608.29</td>\n",
       "      <td>118.43</td>\n",
       "      <td>182759.43</td>\n",
       "      <td>13150.35</td>\n",
       "      <td>169609.07</td>\n",
       "      <td>147187.85</td>\n",
       "      <td>22421.22</td>\n",
       "      <td>2019-04-28 21:36:00</td>\n",
       "      <td>2018.75</td>\n",
       "    </tr>\n",
       "    <tr>\n",
       "      <th>min</th>\n",
       "      <td>200.00</td>\n",
       "      <td>7.00</td>\n",
       "      <td>1799.00</td>\n",
       "      <td>0.00</td>\n",
       "      <td>1655.08</td>\n",
       "      <td>918.00</td>\n",
       "      <td>-71250.25</td>\n",
       "      <td>2018-09-01 00:00:00</td>\n",
       "      <td>2018.00</td>\n",
       "    </tr>\n",
       "    <tr>\n",
       "      <th>25%</th>\n",
       "      <td>905.00</td>\n",
       "      <td>12.00</td>\n",
       "      <td>17391.75</td>\n",
       "      <td>800.32</td>\n",
       "      <td>15928.00</td>\n",
       "      <td>7538.00</td>\n",
       "      <td>2701.80</td>\n",
       "      <td>2018-12-24 06:00:00</td>\n",
       "      <td>2018.75</td>\n",
       "    </tr>\n",
       "    <tr>\n",
       "      <th>50%</th>\n",
       "      <td>1542.50</td>\n",
       "      <td>20.00</td>\n",
       "      <td>37980.00</td>\n",
       "      <td>2585.25</td>\n",
       "      <td>35540.20</td>\n",
       "      <td>22580.00</td>\n",
       "      <td>8936.40</td>\n",
       "      <td>2019-05-16 12:00:00</td>\n",
       "      <td>2019.00</td>\n",
       "    </tr>\n",
       "    <tr>\n",
       "      <th>75%</th>\n",
       "      <td>2229.12</td>\n",
       "      <td>300.00</td>\n",
       "      <td>279025.00</td>\n",
       "      <td>15956.34</td>\n",
       "      <td>261077.50</td>\n",
       "      <td>248422.50</td>\n",
       "      <td>21155.74</td>\n",
       "      <td>2019-09-08 12:00:00</td>\n",
       "      <td>2019.00</td>\n",
       "    </tr>\n",
       "    <tr>\n",
       "      <th>max</th>\n",
       "      <td>4492.50</td>\n",
       "      <td>350.00</td>\n",
       "      <td>1207500.00</td>\n",
       "      <td>149677.50</td>\n",
       "      <td>1159200.00</td>\n",
       "      <td>950625.00</td>\n",
       "      <td>262200.00</td>\n",
       "      <td>2019-12-01 00:00:00</td>\n",
       "      <td>2019.00</td>\n",
       "    </tr>\n",
       "    <tr>\n",
       "      <th>std</th>\n",
       "      <td>867.43</td>\n",
       "      <td>136.78</td>\n",
       "      <td>254262.28</td>\n",
       "      <td>22962.93</td>\n",
       "      <td>236726.35</td>\n",
       "      <td>205930.04</td>\n",
       "      <td>42282.73</td>\n",
       "      <td>NaN</td>\n",
       "      <td>0.43</td>\n",
       "    </tr>\n",
       "  </tbody>\n",
       "</table>\n",
       "</div>"
      ],
      "text/plain": [
       "       qtde_de_unidades_vendidas  preço_unitário  valor_total   desconto  \\\n",
       "count                     700.00          700.00       700.00     700.00   \n",
       "mean                     1608.29          118.43    182759.43   13150.35   \n",
       "min                       200.00            7.00      1799.00       0.00   \n",
       "25%                       905.00           12.00     17391.75     800.32   \n",
       "50%                      1542.50           20.00     37980.00    2585.25   \n",
       "75%                      2229.12          300.00    279025.00   15956.34   \n",
       "max                      4492.50          350.00   1207500.00  149677.50   \n",
       "std                       867.43          136.78    254262.28   22962.93   \n",
       "\n",
       "       valor_total_c/_desconto  custo_total      lucro                 data  \\\n",
       "count                   700.00       700.00     700.00                  700   \n",
       "mean                 169609.07    147187.85   22421.22  2019-04-28 21:36:00   \n",
       "min                    1655.08       918.00  -71250.25  2018-09-01 00:00:00   \n",
       "25%                   15928.00      7538.00    2701.80  2018-12-24 06:00:00   \n",
       "50%                   35540.20     22580.00    8936.40  2019-05-16 12:00:00   \n",
       "75%                  261077.50    248422.50   21155.74  2019-09-08 12:00:00   \n",
       "max                 1159200.00    950625.00  262200.00  2019-12-01 00:00:00   \n",
       "std                  236726.35    205930.04   42282.73                  NaN   \n",
       "\n",
       "           ano  \n",
       "count   700.00  \n",
       "mean   2018.75  \n",
       "min    2018.00  \n",
       "25%    2018.75  \n",
       "50%    2019.00  \n",
       "75%    2019.00  \n",
       "max    2019.00  \n",
       "std       0.43  "
      ]
     },
     "execution_count": 17,
     "metadata": {},
     "output_type": "execute_result"
    }
   ],
   "source": [
    "df.describe().round(2)"
   ]
  },
  {
   "cell_type": "code",
   "execution_count": 18,
   "id": "8a681311-da21-47ee-9da4-8ee71057d483",
   "metadata": {},
   "outputs": [
    {
     "data": {
      "text/html": [
       "<div>\n",
       "<style scoped>\n",
       "    .dataframe tbody tr th:only-of-type {\n",
       "        vertical-align: middle;\n",
       "    }\n",
       "\n",
       "    .dataframe tbody tr th {\n",
       "        vertical-align: top;\n",
       "    }\n",
       "\n",
       "    .dataframe thead th {\n",
       "        text-align: right;\n",
       "    }\n",
       "</style>\n",
       "<table border=\"1\" class=\"dataframe\">\n",
       "  <thead>\n",
       "    <tr style=\"text-align: right;\">\n",
       "      <th></th>\n",
       "      <th>segmento</th>\n",
       "      <th>país</th>\n",
       "      <th>produto</th>\n",
       "      <th>mês</th>\n",
       "    </tr>\n",
       "  </thead>\n",
       "  <tbody>\n",
       "    <tr>\n",
       "      <th>count</th>\n",
       "      <td>700</td>\n",
       "      <td>700</td>\n",
       "      <td>700</td>\n",
       "      <td>700</td>\n",
       "    </tr>\n",
       "    <tr>\n",
       "      <th>unique</th>\n",
       "      <td>5</td>\n",
       "      <td>5</td>\n",
       "      <td>6</td>\n",
       "      <td>12</td>\n",
       "    </tr>\n",
       "    <tr>\n",
       "      <th>top</th>\n",
       "      <td>Governo</td>\n",
       "      <td>Alemanha</td>\n",
       "      <td>Produto 3</td>\n",
       "      <td>Outubro</td>\n",
       "    </tr>\n",
       "    <tr>\n",
       "      <th>freq</th>\n",
       "      <td>300</td>\n",
       "      <td>140</td>\n",
       "      <td>202</td>\n",
       "      <td>140</td>\n",
       "    </tr>\n",
       "  </tbody>\n",
       "</table>\n",
       "</div>"
      ],
      "text/plain": [
       "       segmento      país    produto      mês\n",
       "count       700       700        700      700\n",
       "unique        5         5          6       12\n",
       "top     Governo  Alemanha  Produto 3  Outubro\n",
       "freq        300       140        202      140"
      ]
     },
     "execution_count": 18,
     "metadata": {},
     "output_type": "execute_result"
    }
   ],
   "source": [
    "df.describe(include='object').round(2)"
   ]
  },
  {
   "cell_type": "markdown",
   "id": "cfbf936a-f617-44f0-9683-82a0d5caaa77",
   "metadata": {},
   "source": [
    "# Contagem de registros"
   ]
  },
  {
   "cell_type": "code",
   "execution_count": 20,
   "id": "d90e9582-b814-43e2-accd-34642be2e7a1",
   "metadata": {},
   "outputs": [
    {
     "data": {
      "text/plain": [
       "produto\n",
       "Produto 3    202\n",
       "Produto 4    109\n",
       "Produto 5    109\n",
       "Produto 6     94\n",
       "Produto 1     93\n",
       "Produto 2     93\n",
       "Name: count, dtype: int64"
      ]
     },
     "execution_count": 20,
     "metadata": {},
     "output_type": "execute_result"
    }
   ],
   "source": [
    "df.produto.value_counts()"
   ]
  },
  {
   "cell_type": "code",
   "execution_count": 21,
   "id": "8f3106df-f9b2-46c1-aba3-a93fdd9681ed",
   "metadata": {},
   "outputs": [
    {
     "data": {
      "text/plain": [
       "segmento\n",
       "Governo              300\n",
       "Grandes empresas     100\n",
       "Médias empresas      100\n",
       "Pequenas empresas    100\n",
       "Vendas online        100\n",
       "Name: count, dtype: int64"
      ]
     },
     "execution_count": 21,
     "metadata": {},
     "output_type": "execute_result"
    }
   ],
   "source": [
    "df.segmento.value_counts()"
   ]
  },
  {
   "cell_type": "code",
   "execution_count": 22,
   "id": "51a30b47-751b-4eba-bb18-cb2f7415bcee",
   "metadata": {},
   "outputs": [
    {
     "data": {
      "text/plain": [
       "país\n",
       "Alemanha    140\n",
       "Canadá      140\n",
       "Chile       140\n",
       "EUA         140\n",
       "França      140\n",
       "Name: count, dtype: int64"
      ]
     },
     "execution_count": 22,
     "metadata": {},
     "output_type": "execute_result"
    }
   ],
   "source": [
    "df.país.value_counts()"
   ]
  },
  {
   "cell_type": "markdown",
   "id": "ef9c8ff6-95f6-4b6e-97a0-85ad8241576b",
   "metadata": {},
   "source": [
    "# Análise de margem de lucro"
   ]
  },
  {
   "cell_type": "code",
   "execution_count": 24,
   "id": "2318ad5e-2f65-4379-8f69-25b3987acbdc",
   "metadata": {},
   "outputs": [
    {
     "data": {
      "text/html": [
       "<div>\n",
       "<style scoped>\n",
       "    .dataframe tbody tr th:only-of-type {\n",
       "        vertical-align: middle;\n",
       "    }\n",
       "\n",
       "    .dataframe tbody tr th {\n",
       "        vertical-align: top;\n",
       "    }\n",
       "\n",
       "    .dataframe thead th {\n",
       "        text-align: right;\n",
       "    }\n",
       "</style>\n",
       "<table border=\"1\" class=\"dataframe\">\n",
       "  <thead>\n",
       "    <tr style=\"text-align: right;\">\n",
       "      <th></th>\n",
       "      <th>segmento</th>\n",
       "      <th>país</th>\n",
       "      <th>produto</th>\n",
       "      <th>qtde_de_unidades_vendidas</th>\n",
       "      <th>preço_unitário</th>\n",
       "      <th>valor_total</th>\n",
       "      <th>desconto</th>\n",
       "      <th>valor_total_c/_desconto</th>\n",
       "      <th>custo_total</th>\n",
       "      <th>lucro</th>\n",
       "      <th>data</th>\n",
       "      <th>mês</th>\n",
       "      <th>ano</th>\n",
       "    </tr>\n",
       "  </thead>\n",
       "  <tbody>\n",
       "    <tr>\n",
       "      <th>0</th>\n",
       "      <td>Governo</td>\n",
       "      <td>Alemanha</td>\n",
       "      <td>Produto 1</td>\n",
       "      <td>1321.0</td>\n",
       "      <td>20</td>\n",
       "      <td>26420.0</td>\n",
       "      <td>0.0</td>\n",
       "      <td>26420.0</td>\n",
       "      <td>14531.0</td>\n",
       "      <td>11889.0</td>\n",
       "      <td>2019-01-01</td>\n",
       "      <td>Janeiro</td>\n",
       "      <td>2019</td>\n",
       "    </tr>\n",
       "    <tr>\n",
       "      <th>1</th>\n",
       "      <td>Governo</td>\n",
       "      <td>Alemanha</td>\n",
       "      <td>Produto 1</td>\n",
       "      <td>1513.0</td>\n",
       "      <td>350</td>\n",
       "      <td>529550.0</td>\n",
       "      <td>0.0</td>\n",
       "      <td>529550.0</td>\n",
       "      <td>432718.0</td>\n",
       "      <td>96832.0</td>\n",
       "      <td>2019-12-01</td>\n",
       "      <td>Dezembro</td>\n",
       "      <td>2019</td>\n",
       "    </tr>\n",
       "    <tr>\n",
       "      <th>2</th>\n",
       "      <td>Governo</td>\n",
       "      <td>Alemanha</td>\n",
       "      <td>Produto 2</td>\n",
       "      <td>2146.0</td>\n",
       "      <td>7</td>\n",
       "      <td>15022.0</td>\n",
       "      <td>0.0</td>\n",
       "      <td>15022.0</td>\n",
       "      <td>10730.0</td>\n",
       "      <td>4292.0</td>\n",
       "      <td>2019-09-01</td>\n",
       "      <td>Setembro</td>\n",
       "      <td>2019</td>\n",
       "    </tr>\n",
       "    <tr>\n",
       "      <th>3</th>\n",
       "      <td>Governo</td>\n",
       "      <td>Alemanha</td>\n",
       "      <td>Produto 3</td>\n",
       "      <td>1006.0</td>\n",
       "      <td>350</td>\n",
       "      <td>352100.0</td>\n",
       "      <td>0.0</td>\n",
       "      <td>352100.0</td>\n",
       "      <td>261560.0</td>\n",
       "      <td>90540.0</td>\n",
       "      <td>2019-06-01</td>\n",
       "      <td>Junho</td>\n",
       "      <td>2019</td>\n",
       "    </tr>\n",
       "    <tr>\n",
       "      <th>4</th>\n",
       "      <td>Governo</td>\n",
       "      <td>Alemanha</td>\n",
       "      <td>Produto 3</td>\n",
       "      <td>1513.0</td>\n",
       "      <td>350</td>\n",
       "      <td>529550.0</td>\n",
       "      <td>0.0</td>\n",
       "      <td>529550.0</td>\n",
       "      <td>393380.0</td>\n",
       "      <td>136170.0</td>\n",
       "      <td>2019-12-01</td>\n",
       "      <td>Dezembro</td>\n",
       "      <td>2019</td>\n",
       "    </tr>\n",
       "  </tbody>\n",
       "</table>\n",
       "</div>"
      ],
      "text/plain": [
       "  segmento      país    produto  qtde_de_unidades_vendidas  preço_unitário  \\\n",
       "0  Governo  Alemanha  Produto 1                     1321.0              20   \n",
       "1  Governo  Alemanha  Produto 1                     1513.0             350   \n",
       "2  Governo  Alemanha  Produto 2                     2146.0               7   \n",
       "3  Governo  Alemanha  Produto 3                     1006.0             350   \n",
       "4  Governo  Alemanha  Produto 3                     1513.0             350   \n",
       "\n",
       "   valor_total  desconto  valor_total_c/_desconto  custo_total     lucro  \\\n",
       "0      26420.0       0.0                  26420.0      14531.0   11889.0   \n",
       "1     529550.0       0.0                 529550.0     432718.0   96832.0   \n",
       "2      15022.0       0.0                  15022.0      10730.0    4292.0   \n",
       "3     352100.0       0.0                 352100.0     261560.0   90540.0   \n",
       "4     529550.0       0.0                 529550.0     393380.0  136170.0   \n",
       "\n",
       "        data       mês   ano  \n",
       "0 2019-01-01   Janeiro  2019  \n",
       "1 2019-12-01  Dezembro  2019  \n",
       "2 2019-09-01  Setembro  2019  \n",
       "3 2019-06-01     Junho  2019  \n",
       "4 2019-12-01  Dezembro  2019  "
      ]
     },
     "execution_count": 24,
     "metadata": {},
     "output_type": "execute_result"
    }
   ],
   "source": [
    "df.head()"
   ]
  },
  {
   "cell_type": "markdown",
   "id": "05c8a423-e54b-4f39-9225-c082b86ca5b9",
   "metadata": {},
   "source": [
    "# Agrupando dados\n",
    "## por segmento"
   ]
  },
  {
   "cell_type": "code",
   "execution_count": 26,
   "id": "d356128e-ff7c-4ff2-91ae-57e51d9bb78c",
   "metadata": {},
   "outputs": [
    {
     "data": {
      "text/plain": [
       "Index(['segmento', 'país', 'produto', 'qtde_de_unidades_vendidas',\n",
       "       'preço_unitário', 'valor_total', 'desconto', 'valor_total_c/_desconto',\n",
       "       'custo_total', 'lucro', 'data', 'mês', 'ano'],\n",
       "      dtype='object')"
      ]
     },
     "execution_count": 26,
     "metadata": {},
     "output_type": "execute_result"
    }
   ],
   "source": [
    "df.columns"
   ]
  },
  {
   "cell_type": "code",
   "execution_count": 27,
   "id": "c66f8563-a43b-4a97-9101-9bd570ebf411",
   "metadata": {},
   "outputs": [],
   "source": [
    "colunas = ['valor_total_c/_desconto', 'valor_total', 'lucro'] # Serve guardar essas colunas em variavel, coluna\n",
    "df_segmento = df.groupby('segmento')[colunas].sum().round(2) # somando o total valor de cada coluna"
   ]
  },
  {
   "cell_type": "code",
   "execution_count": 28,
   "id": "a5f8cda5-20ed-4ceb-9089-c701f198c818",
   "metadata": {},
   "outputs": [
    {
     "data": {
      "text/html": [
       "<div>\n",
       "<style scoped>\n",
       "    .dataframe tbody tr th:only-of-type {\n",
       "        vertical-align: middle;\n",
       "    }\n",
       "\n",
       "    .dataframe tbody tr th {\n",
       "        vertical-align: top;\n",
       "    }\n",
       "\n",
       "    .dataframe thead th {\n",
       "        text-align: right;\n",
       "    }\n",
       "</style>\n",
       "<table border=\"1\" class=\"dataframe\">\n",
       "  <thead>\n",
       "    <tr style=\"text-align: right;\">\n",
       "      <th></th>\n",
       "      <th>valor_total_c/_desconto</th>\n",
       "      <th>valor_total</th>\n",
       "      <th>lucro</th>\n",
       "    </tr>\n",
       "    <tr>\n",
       "      <th>segmento</th>\n",
       "      <th></th>\n",
       "      <th></th>\n",
       "      <th></th>\n",
       "    </tr>\n",
       "  </thead>\n",
       "  <tbody>\n",
       "    <tr>\n",
       "      <th>Governo</th>\n",
       "      <td>52504260.67</td>\n",
       "      <td>56403066.5</td>\n",
       "      <td>10919978.17</td>\n",
       "    </tr>\n",
       "    <tr>\n",
       "      <th>Grandes empresas</th>\n",
       "      <td>19611694.38</td>\n",
       "      <td>21069000.0</td>\n",
       "      <td>-957187.63</td>\n",
       "    </tr>\n",
       "    <tr>\n",
       "      <th>Médias empresas</th>\n",
       "      <td>2381883.08</td>\n",
       "      <td>2582670.0</td>\n",
       "      <td>635783.07</td>\n",
       "    </tr>\n",
       "    <tr>\n",
       "      <th>Pequenas empresas</th>\n",
       "      <td>42427918.50</td>\n",
       "      <td>45941700.0</td>\n",
       "      <td>3786918.50</td>\n",
       "    </tr>\n",
       "    <tr>\n",
       "      <th>Vendas online</th>\n",
       "      <td>1800593.64</td>\n",
       "      <td>1935162.0</td>\n",
       "      <td>1309359.84</td>\n",
       "    </tr>\n",
       "  </tbody>\n",
       "</table>\n",
       "</div>"
      ],
      "text/plain": [
       "                   valor_total_c/_desconto  valor_total        lucro\n",
       "segmento                                                            \n",
       "Governo                        52504260.67   56403066.5  10919978.17\n",
       "Grandes empresas               19611694.38   21069000.0   -957187.63\n",
       "Médias empresas                 2381883.08    2582670.0    635783.07\n",
       "Pequenas empresas              42427918.50   45941700.0   3786918.50\n",
       "Vendas online                   1800593.64    1935162.0   1309359.84"
      ]
     },
     "execution_count": 28,
     "metadata": {},
     "output_type": "execute_result"
    }
   ],
   "source": [
    "df_segmento"
   ]
  },
  {
   "cell_type": "code",
   "execution_count": 29,
   "id": "8b48f164-8395-414d-a0bc-f88836846604",
   "metadata": {},
   "outputs": [],
   "source": [
    "df_segmento['margem_lucro'] = round( (df_segmento['lucro'] / df_segmento['valor_total_c/_desconto']) * 100, 2)"
   ]
  },
  {
   "cell_type": "code",
   "execution_count": 30,
   "id": "63cc5981-f7d4-4353-b521-d8fa912557b0",
   "metadata": {},
   "outputs": [
    {
     "data": {
      "text/html": [
       "<div>\n",
       "<style scoped>\n",
       "    .dataframe tbody tr th:only-of-type {\n",
       "        vertical-align: middle;\n",
       "    }\n",
       "\n",
       "    .dataframe tbody tr th {\n",
       "        vertical-align: top;\n",
       "    }\n",
       "\n",
       "    .dataframe thead th {\n",
       "        text-align: right;\n",
       "    }\n",
       "</style>\n",
       "<table border=\"1\" class=\"dataframe\">\n",
       "  <thead>\n",
       "    <tr style=\"text-align: right;\">\n",
       "      <th></th>\n",
       "      <th>valor_total_c/_desconto</th>\n",
       "      <th>valor_total</th>\n",
       "      <th>lucro</th>\n",
       "      <th>margem_lucro</th>\n",
       "    </tr>\n",
       "    <tr>\n",
       "      <th>segmento</th>\n",
       "      <th></th>\n",
       "      <th></th>\n",
       "      <th></th>\n",
       "      <th></th>\n",
       "    </tr>\n",
       "  </thead>\n",
       "  <tbody>\n",
       "    <tr>\n",
       "      <th>Governo</th>\n",
       "      <td>52504260.67</td>\n",
       "      <td>56403066.5</td>\n",
       "      <td>10919978.17</td>\n",
       "      <td>20.80</td>\n",
       "    </tr>\n",
       "    <tr>\n",
       "      <th>Grandes empresas</th>\n",
       "      <td>19611694.38</td>\n",
       "      <td>21069000.0</td>\n",
       "      <td>-957187.63</td>\n",
       "      <td>-4.88</td>\n",
       "    </tr>\n",
       "    <tr>\n",
       "      <th>Médias empresas</th>\n",
       "      <td>2381883.08</td>\n",
       "      <td>2582670.0</td>\n",
       "      <td>635783.07</td>\n",
       "      <td>26.69</td>\n",
       "    </tr>\n",
       "    <tr>\n",
       "      <th>Pequenas empresas</th>\n",
       "      <td>42427918.50</td>\n",
       "      <td>45941700.0</td>\n",
       "      <td>3786918.50</td>\n",
       "      <td>8.93</td>\n",
       "    </tr>\n",
       "    <tr>\n",
       "      <th>Vendas online</th>\n",
       "      <td>1800593.64</td>\n",
       "      <td>1935162.0</td>\n",
       "      <td>1309359.84</td>\n",
       "      <td>72.72</td>\n",
       "    </tr>\n",
       "  </tbody>\n",
       "</table>\n",
       "</div>"
      ],
      "text/plain": [
       "                   valor_total_c/_desconto  valor_total        lucro  \\\n",
       "segmento                                                               \n",
       "Governo                        52504260.67   56403066.5  10919978.17   \n",
       "Grandes empresas               19611694.38   21069000.0   -957187.63   \n",
       "Médias empresas                 2381883.08    2582670.0    635783.07   \n",
       "Pequenas empresas              42427918.50   45941700.0   3786918.50   \n",
       "Vendas online                   1800593.64    1935162.0   1309359.84   \n",
       "\n",
       "                   margem_lucro  \n",
       "segmento                         \n",
       "Governo                   20.80  \n",
       "Grandes empresas          -4.88  \n",
       "Médias empresas           26.69  \n",
       "Pequenas empresas          8.93  \n",
       "Vendas online             72.72  "
      ]
     },
     "execution_count": 30,
     "metadata": {},
     "output_type": "execute_result"
    }
   ],
   "source": [
    "df_segmento"
   ]
  },
  {
   "cell_type": "markdown",
   "id": "3aa8dce0-50a2-43f5-831a-fd1dc914361c",
   "metadata": {},
   "source": [
    "## Por produto"
   ]
  },
  {
   "cell_type": "code",
   "execution_count": 32,
   "id": "24cd1cd3-568e-46d8-96a1-f8812c236621",
   "metadata": {},
   "outputs": [],
   "source": [
    "df_produto = df.groupby('produto')[colunas].sum().round(2)\n",
    "df_produto['margem_lucro'] = round( (df_produto['lucro'] / df_produto['valor_total_c/_desconto']) *100, 2)"
   ]
  },
  {
   "cell_type": "code",
   "execution_count": 33,
   "id": "43aac170-9e34-41bd-b5e7-7148065f3995",
   "metadata": {},
   "outputs": [
    {
     "data": {
      "text/html": [
       "<div>\n",
       "<style scoped>\n",
       "    .dataframe tbody tr th:only-of-type {\n",
       "        vertical-align: middle;\n",
       "    }\n",
       "\n",
       "    .dataframe tbody tr th {\n",
       "        vertical-align: top;\n",
       "    }\n",
       "\n",
       "    .dataframe thead th {\n",
       "        text-align: right;\n",
       "    }\n",
       "</style>\n",
       "<table border=\"1\" class=\"dataframe\">\n",
       "  <thead>\n",
       "    <tr style=\"text-align: right;\">\n",
       "      <th></th>\n",
       "      <th>valor_total_c/_desconto</th>\n",
       "      <th>valor_total</th>\n",
       "      <th>lucro</th>\n",
       "      <th>margem_lucro</th>\n",
       "    </tr>\n",
       "    <tr>\n",
       "      <th>produto</th>\n",
       "      <th></th>\n",
       "      <th></th>\n",
       "      <th></th>\n",
       "      <th></th>\n",
       "    </tr>\n",
       "  </thead>\n",
       "  <tbody>\n",
       "    <tr>\n",
       "      <th>Produto 1</th>\n",
       "      <td>13815307.88</td>\n",
       "      <td>14937520.5</td>\n",
       "      <td>627954.58</td>\n",
       "      <td>4.55</td>\n",
       "    </tr>\n",
       "    <tr>\n",
       "      <th>Produto 2</th>\n",
       "      <td>15390801.88</td>\n",
       "      <td>16549834.5</td>\n",
       "      <td>2114754.88</td>\n",
       "      <td>13.74</td>\n",
       "    </tr>\n",
       "    <tr>\n",
       "      <th>Produto 3</th>\n",
       "      <td>33011143.95</td>\n",
       "      <td>35611662.0</td>\n",
       "      <td>4797437.95</td>\n",
       "      <td>14.53</td>\n",
       "    </tr>\n",
       "    <tr>\n",
       "      <th>Produto 4</th>\n",
       "      <td>18250059.46</td>\n",
       "      <td>19826768.5</td>\n",
       "      <td>2305992.46</td>\n",
       "      <td>12.64</td>\n",
       "    </tr>\n",
       "    <tr>\n",
       "      <th>Produto 5</th>\n",
       "      <td>20511921.02</td>\n",
       "      <td>21968533.5</td>\n",
       "      <td>3034608.02</td>\n",
       "      <td>14.79</td>\n",
       "    </tr>\n",
       "    <tr>\n",
       "      <th>Produto 6</th>\n",
       "      <td>17747116.06</td>\n",
       "      <td>19037279.5</td>\n",
       "      <td>2814104.06</td>\n",
       "      <td>15.86</td>\n",
       "    </tr>\n",
       "  </tbody>\n",
       "</table>\n",
       "</div>"
      ],
      "text/plain": [
       "           valor_total_c/_desconto  valor_total       lucro  margem_lucro\n",
       "produto                                                                  \n",
       "Produto 1              13815307.88   14937520.5   627954.58          4.55\n",
       "Produto 2              15390801.88   16549834.5  2114754.88         13.74\n",
       "Produto 3              33011143.95   35611662.0  4797437.95         14.53\n",
       "Produto 4              18250059.46   19826768.5  2305992.46         12.64\n",
       "Produto 5              20511921.02   21968533.5  3034608.02         14.79\n",
       "Produto 6              17747116.06   19037279.5  2814104.06         15.86"
      ]
     },
     "execution_count": 33,
     "metadata": {},
     "output_type": "execute_result"
    }
   ],
   "source": [
    "df_produto"
   ]
  },
  {
   "cell_type": "markdown",
   "id": "d711b151-1b0e-41e0-966e-84e6dec8e420",
   "metadata": {},
   "source": [
    "## por país"
   ]
  },
  {
   "cell_type": "code",
   "execution_count": 35,
   "id": "5b08be79-812d-46b5-b5ef-4907d3c3f945",
   "metadata": {},
   "outputs": [],
   "source": [
    "df_pais = df.groupby('país')[colunas].sum().round(2)\n",
    "df_pais['margem_lucro'] = round( (df_pais['lucro'] / df_pais['valor_total_c/_desconto'])* 100, 2)"
   ]
  },
  {
   "cell_type": "code",
   "execution_count": 36,
   "id": "e24da8cf-909d-487c-bc7c-20e644e2a62f",
   "metadata": {},
   "outputs": [
    {
     "data": {
      "text/html": [
       "<div>\n",
       "<style scoped>\n",
       "    .dataframe tbody tr th:only-of-type {\n",
       "        vertical-align: middle;\n",
       "    }\n",
       "\n",
       "    .dataframe tbody tr th {\n",
       "        vertical-align: top;\n",
       "    }\n",
       "\n",
       "    .dataframe thead th {\n",
       "        text-align: right;\n",
       "    }\n",
       "</style>\n",
       "<table border=\"1\" class=\"dataframe\">\n",
       "  <thead>\n",
       "    <tr style=\"text-align: right;\">\n",
       "      <th></th>\n",
       "      <th>valor_total_c/_desconto</th>\n",
       "      <th>valor_total</th>\n",
       "      <th>lucro</th>\n",
       "      <th>margem_lucro</th>\n",
       "    </tr>\n",
       "    <tr>\n",
       "      <th>país</th>\n",
       "      <th></th>\n",
       "      <th></th>\n",
       "      <th></th>\n",
       "      <th></th>\n",
       "    </tr>\n",
       "  </thead>\n",
       "  <tbody>\n",
       "    <tr>\n",
       "      <th>Alemanha</th>\n",
       "      <td>23505340.82</td>\n",
       "      <td>24921467.5</td>\n",
       "      <td>3411122.22</td>\n",
       "      <td>14.51</td>\n",
       "    </tr>\n",
       "    <tr>\n",
       "      <th>Canadá</th>\n",
       "      <td>24887654.88</td>\n",
       "      <td>26932163.5</td>\n",
       "      <td>3311818.98</td>\n",
       "      <td>13.31</td>\n",
       "    </tr>\n",
       "    <tr>\n",
       "      <th>Chile</th>\n",
       "      <td>20949352.11</td>\n",
       "      <td>22726935.0</td>\n",
       "      <td>2658929.81</td>\n",
       "      <td>12.69</td>\n",
       "    </tr>\n",
       "    <tr>\n",
       "      <th>EUA</th>\n",
       "      <td>25029830.16</td>\n",
       "      <td>27269358.0</td>\n",
       "      <td>2835405.86</td>\n",
       "      <td>11.33</td>\n",
       "    </tr>\n",
       "    <tr>\n",
       "      <th>França</th>\n",
       "      <td>24354172.28</td>\n",
       "      <td>26081674.5</td>\n",
       "      <td>3477575.08</td>\n",
       "      <td>14.28</td>\n",
       "    </tr>\n",
       "  </tbody>\n",
       "</table>\n",
       "</div>"
      ],
      "text/plain": [
       "          valor_total_c/_desconto  valor_total       lucro  margem_lucro\n",
       "país                                                                    \n",
       "Alemanha              23505340.82   24921467.5  3411122.22         14.51\n",
       "Canadá                24887654.88   26932163.5  3311818.98         13.31\n",
       "Chile                 20949352.11   22726935.0  2658929.81         12.69\n",
       "EUA                   25029830.16   27269358.0  2835405.86         11.33\n",
       "França                24354172.28   26081674.5  3477575.08         14.28"
      ]
     },
     "execution_count": 36,
     "metadata": {},
     "output_type": "execute_result"
    }
   ],
   "source": [
    "df_pais"
   ]
  },
  {
   "cell_type": "code",
   "execution_count": null,
   "id": "159df7e8-dda8-4558-a520-966b233a4398",
   "metadata": {},
   "outputs": [],
   "source": []
  }
 ],
 "metadata": {
  "kernelspec": {
   "display_name": "Python 3 (ipykernel)",
   "language": "python",
   "name": "python3"
  },
  "language_info": {
   "codemirror_mode": {
    "name": "ipython",
    "version": 3
   },
   "file_extension": ".py",
   "mimetype": "text/x-python",
   "name": "python",
   "nbconvert_exporter": "python",
   "pygments_lexer": "ipython3",
   "version": "3.12.4"
  }
 },
 "nbformat": 4,
 "nbformat_minor": 5
}
